{
    "cells": [
        {
            "cell_type": "markdown",
            "metadata": {
                "collapsed": true,
                "id": "2dab69ef-da73-42fa-aa24-568dcb5c673c",
                "jupyter": {
                    "outputs_hidden": true
                }
            },
            "source": "This program prints Hello, World!."
        },
        {
            "cell_type": "code",
            "execution_count": 1,
            "metadata": {
                "id": "08bade93-413e-4a4f-a644-04f51f4dbc68"
            },
            "outputs": [
                {
                    "name": "stdout",
                    "output_type": "stream",
                    "text": "Hello, World!\n"
                }
            ],
            "source": "print(\"Hello, World!\")"
        },
        {
            "cell_type": "code",
            "execution_count": null,
            "metadata": {
                "id": "26707cd2-822d-4b68-a663-5572e970bbc1"
            },
            "outputs": [],
            "source": ""
        }
    ],
    "metadata": {
        "kernelspec": {
            "display_name": "Python 3.11",
            "language": "python",
            "name": "python3"
        },
        "language_info": {
            "codemirror_mode": {
                "name": "ipython",
                "version": 3
            },
            "file_extension": ".py",
            "mimetype": "text/x-python",
            "name": "python",
            "nbconvert_exporter": "python",
            "pygments_lexer": "ipython3",
            "version": "3.11.13"
        }
    },
    "nbformat": 4,
    "nbformat_minor": 4
}